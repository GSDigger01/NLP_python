{
 "cells": [
  {
   "cell_type": "code",
   "execution_count": null,
   "id": "7a8c630d",
   "metadata": {},
   "outputs": [],
   "source": [
    "import snscrape.modules.twitter as sntwitter\n",
    "import pandas as pd\n",
    "import pymongo\n",
    "import time\n",
    "from tqdm import tqdm\n",
    "import schedule "
   ]
  },
  {
   "cell_type": "code",
   "execution_count": null,
   "id": "3c93e640",
   "metadata": {},
   "outputs": [],
   "source": [
    "def extract_tweets():\n",
    "    hashtags_data = pd.read_excel(r'Hashtags_csv.xlsx')\n",
    "    hashtags_df = pd.DataFrame(hashtags_data)\n",
    "    tweets = []\n",
    "    for h in tqdm(hashtags_df['Mots clés']):\n",
    "        scraper = sntwitter.TwitterSearchScraper(h).get_items()\n",
    "        m = 100\n",
    "        for i, tweet in enumerate(scraper):\n",
    "            if tweet.lang == 'fr':\n",
    "                data = [\n",
    "                    tweet.id,\n",
    "                    tweet.date,\n",
    "                    tweet.rawContent,\n",
    "                    tweet.user.username,\n",
    "                    tweet.likeCount,\n",
    "                    tweet.retweetCount,\n",
    "                    h\n",
    "                ]\n",
    "                tweets.append(data)\n",
    "                if i >= m:\n",
    "                    break\n",
    "    tweets_df = pd.DataFrame(tweets, columns=['id', 'date', 'contenu', 'utilisateur', 'nbre_like', 'nbre_retweet', 'mots_cles'])\n",
    "    tweets_db = tweets_df.to_dict(orient='records')\n",
    "    tweets_df.to_json('tweets.json', orient='records')\n",
    "\n",
    "    client = pymongo.MongoClient(\"mongodb://localhost:27017\")\n",
    "    db = client[\"TweetsScraping\"]\n",
    "    db.Tweets.insert_many(tweets_db)"
   ]
  },
  {
   "cell_type": "code",
   "execution_count": null,
   "id": "daf98c04",
   "metadata": {},
   "outputs": [],
   "source": [
    "# Planification de l'exécution de la fonction toutes les 8 heures\n",
    "schedule.every(8).hours.do(extract_tweets)\n",
    "\n",
    "while True:\n",
    "    schedule.run_pending()\n",
    "    time.sleep(1)"
   ]
  },
  {
   "cell_type": "code",
   "execution_count": null,
   "id": "c2d3f2ce",
   "metadata": {},
   "outputs": [],
   "source": [
    "client = pymongo.MongoClient(\"mongodb://localhost:27017\")\n",
    "db = client[\"TweetsScraping\"]\n",
    "db.Tweets.insert_many(tweets_db)"
   ]
  }
 ],
 "metadata": {
  "kernelspec": {
   "display_name": "Python 3 (ipykernel)",
   "language": "python",
   "name": "python3"
  },
  "language_info": {
   "codemirror_mode": {
    "name": "ipython",
    "version": 3
   },
   "file_extension": ".py",
   "mimetype": "text/x-python",
   "name": "python",
   "nbconvert_exporter": "python",
   "pygments_lexer": "ipython3",
   "version": "3.9.13"
  }
 },
 "nbformat": 4,
 "nbformat_minor": 5
}
